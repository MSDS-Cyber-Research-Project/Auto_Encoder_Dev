{
 "cells": [
  {
   "cell_type": "code",
   "execution_count": 1,
   "metadata": {
    "collapsed": true
   },
   "outputs": [],
   "source": [
    "import pandas as pd\n",
    "from sklearn.preprocessing import StandardScaler\n",
    "from sklearn.preprocessing import RobustScaler"
   ]
  },
  {
   "cell_type": "code",
   "execution_count": 31,
   "metadata": {},
   "outputs": [
    {
     "name": "stdout",
     "output_type": "stream",
     "text": [
      "DF Shape: (10000704, 22)\n"
     ]
    }
   ],
   "source": [
    "#df = pd.read_csv('/host/data/data_exploration_output_1000lines.csv')\n",
    "#df = pd.read_csv('data_exploration_filtered_lat.csv')\n",
    "\n",
    "df = pd.read_csv('../auth_filtered_all_with_labels_sorted_2_with_labels_filtered.csv')\n",
    "\n",
    "#cols = [\"time\",\"p(src_user)\",\"p(dest_user)\",\"p(src_nt_host)\",\"p(dest_nt_host)\",\"p(src_user n dest_user)\",\"p(src_nt_host n dest_nt_host)\",\"p(dest_user n dest_nt_host)\",\"p(src_nt_host|dest_nt_host)\",\"p(dest_user|src_user)\",\"p(dest_nt_host|dest_user)\"]\n",
    "#cols = [\"p(src_user)\",\"p(dest_user)\",\"p(src_nt_host)\",\"p(dest_nt_host)\",\"p(src_user n dest_user)\",\"p(src_nt_host n dest_nt_host)\",\"p(dest_user n dest_nt_host)\",\"p(src_nt_host|dest_nt_host)\",\"p(dest_user|src_user)\",\"p(dest_nt_host|dest_user)\", \"is_malicious\"]\n",
    "cols = [\"p(src_user n dest_user)\",\"p(src_nt_host n dest_nt_host)\",\"p(dest_user n dest_nt_host)\",\"p(src_nt_host|dest_nt_host)\",\"p(dest_user|src_user)\",\"p(dest_nt_host|dest_user)\", \"is_malicious\"]\n",
    "\n",
    "#df = df[cols]\n",
    "\n",
    "print(\"DF Shape: \" + str(df.shape))"
   ]
  },
  {
   "cell_type": "code",
   "execution_count": 32,
   "metadata": {
    "collapsed": true
   },
   "outputs": [],
   "source": [
    "#find secs between logins for src_nt_host\n",
    "df = df.sort_values(['src_nt_host', 'time'], ascending=[True, True])\n",
    "\n",
    "df['secs_since_last_login_by_src_nt_host'] = df.groupby(['src_nt_host'], sort=False)['time'].diff()\n",
    "\n",
    "df['secs_since_last_login_by_src_nt_host'].fillna(0, inplace=True)\n",
    "\n",
    "#find secs between logins for src_user\n",
    "df = df.sort_values(['src_user', 'time'], ascending=[True, True])\n",
    "\n",
    "df['secs_since_last_login_by_src_user'] = df.groupby(['src_user'], sort=False)['time'].diff()\n",
    "\n",
    "df['secs_since_last_login_by_src_user'].fillna(0, inplace=True)"
   ]
  },
  {
   "cell_type": "code",
   "execution_count": 9,
   "metadata": {
    "collapsed": true
   },
   "outputs": [],
   "source": [
    "\"\"\" Function to bin time to a given hour \"\"\"\n",
    "import math\n",
    "\n",
    "bins = [ i for i in range(1,math.ceil(df['time'].max() / 3600) + 1)]\n",
    "\n",
    "\n",
    "def bin_time(time):\n",
    "    return bins[math.ceil(time / 3600) - 1]"
   ]
  },
  {
   "cell_type": "code",
   "execution_count": 34,
   "metadata": {
    "collapsed": true
   },
   "outputs": [],
   "source": [
    "#Let's bin time and convert the seconds to a given hr \n",
    "df['bin_timed'] = df['time'].apply(bin_time)"
   ]
  },
  {
   "cell_type": "code",
   "execution_count": 35,
   "metadata": {
    "collapsed": true
   },
   "outputs": [],
   "source": [
    "#Let's find the distinct number of dest hosts for a src_host in a given hour\n",
    "df['num_distinct_dest_nt_host_per_src_nt_host_per_hour'] = \\\n",
    "    df.groupby(['bin_timed','src_nt_host'])['dest_nt_host'].transform('nunique')\n",
    "\n",
    "#Let's find the distinct number of dest_users for a src_host in a given hour\n",
    "df['num_distinct_dest_user_per_src_nt_host_per_hour'] = \\\n",
    "    df.groupby(['bin_timed','src_nt_host'])['dest_user'].transform('nunique')\n",
    "  \n",
    "#Let's find the distinct number of dest_users per a src_user in a given hour\n",
    "df['num_distinct_dest_user_per_src_user_per_hour'] = \\\n",
    "    df.groupby(['bin_timed','src_user'])['dest_user'].transform('nunique')"
   ]
  },
  {
   "cell_type": "code",
   "execution_count": 36,
   "metadata": {},
   "outputs": [
    {
     "data": {
      "text/plain": [
       "C1065    3037\n",
       "C586       77\n",
       "C625       20\n",
       "C529       15\n",
       "Name: dest_nt_host, dtype: int64"
      ]
     },
     "execution_count": 36,
     "metadata": {},
     "output_type": "execute_result"
    }
   ],
   "source": [
    "#Let's make sure it's working as expected. \n",
    "\n",
    "df[(df['src_nt_host'] == 'C1065') & (df['bin_timed'] == 1)]['dest_nt_host'].value_counts()"
   ]
  },
  {
   "cell_type": "code",
   "execution_count": 37,
   "metadata": {
    "collapsed": true
   },
   "outputs": [],
   "source": [
    "cols = [\"p(src_user n dest_user)\",\"p(src_nt_host n dest_nt_host)\",\"p(dest_user n dest_nt_host)\",\"p(src_nt_host|dest_nt_host)\",\"p(dest_user|src_user)\",\"p(dest_nt_host|dest_user)\", \"secs_since_last_login_by_src_nt_host\", \"num_distinct_dest_nt_host_per_src_nt_host_per_hour\", \"num_distinct_dest_user_per_src_nt_host_per_hour\", \"num_distinct_dest_user_per_src_user_per_hour\", \"is_malicious\"]\n",
    "\n",
    "df = df[cols]"
   ]
  },
  {
   "cell_type": "code",
   "execution_count": 15,
   "metadata": {
    "collapsed": true
   },
   "outputs": [],
   "source": [
    "#scaler = StandardScaler()\n",
    "\n",
    "scaler = RobustScaler()"
   ]
  },
  {
   "cell_type": "code",
   "execution_count": 41,
   "metadata": {
    "collapsed": true
   },
   "outputs": [],
   "source": [
    "#df[[\"p(src_user n dest_user)\",\"p(src_nt_host n dest_nt_host)\",\"p(dest_user n dest_nt_host)\",\"p(src_nt_host|dest_nt_host)\",\"p(dest_user|src_user)\",\"p(dest_nt_host|dest_user)\"]] = scaler.fit_transform(df.as_matrix([\"p(src_user n dest_user)\",\"p(src_nt_host n dest_nt_host)\",\"p(dest_user n dest_nt_host)\",\"p(src_nt_host|dest_nt_host)\",\"p(dest_user|src_user)\",\"p(dest_nt_host|dest_user)\"]))\n",
    "\n",
    "df[[\"p(src_user n dest_user)\",\n",
    "    \"p(src_nt_host n dest_nt_host)\",\n",
    "    \"p(dest_user n dest_nt_host)\",\n",
    "    \"p(src_nt_host|dest_nt_host)\",\n",
    "    \"p(dest_user|src_user)\",\n",
    "    \"p(dest_nt_host|dest_user)\", \n",
    "    \"secs_since_last_login_by_src_nt_host\", \n",
    "    \"num_distinct_dest_nt_host_per_src_nt_host_per_hour\", \n",
    "    \"num_distinct_dest_user_per_src_nt_host_per_hour\", \n",
    "    \"num_distinct_dest_user_per_src_user_per_hour\"\n",
    "           ]] = scaler.fit_transform(df.as_matrix([\"p(src_user n dest_user)\",\n",
    "                                                    \"p(src_nt_host n dest_nt_host)\",\n",
    "                                                    \"p(dest_user n dest_nt_host)\",\n",
    "                                                    \"p(src_nt_host|dest_nt_host)\",\n",
    "                                                    \"p(dest_user|src_user)\",\n",
    "                                                    \"p(dest_nt_host|dest_user)\", \n",
    "                                                    \"secs_since_last_login_by_src_nt_host\", \n",
    "                                                    \"num_distinct_dest_nt_host_per_src_nt_host_per_hour\", \n",
    "                                                    \"num_distinct_dest_user_per_src_nt_host_per_hour\", \n",
    "                                                    \"num_distinct_dest_user_per_src_user_per_hour\"]))"
   ]
  },
  {
   "cell_type": "code",
   "execution_count": 42,
   "metadata": {},
   "outputs": [
    {
     "data": {
      "text/html": [
       "<div>\n",
       "<style scoped>\n",
       "    .dataframe tbody tr th:only-of-type {\n",
       "        vertical-align: middle;\n",
       "    }\n",
       "\n",
       "    .dataframe tbody tr th {\n",
       "        vertical-align: top;\n",
       "    }\n",
       "\n",
       "    .dataframe thead th {\n",
       "        text-align: right;\n",
       "    }\n",
       "</style>\n",
       "<table border=\"1\" class=\"dataframe\">\n",
       "  <thead>\n",
       "    <tr style=\"text-align: right;\">\n",
       "      <th></th>\n",
       "      <th>p(src_user n dest_user)</th>\n",
       "      <th>p(src_nt_host n dest_nt_host)</th>\n",
       "      <th>p(dest_user n dest_nt_host)</th>\n",
       "      <th>p(src_nt_host|dest_nt_host)</th>\n",
       "      <th>p(dest_user|src_user)</th>\n",
       "      <th>p(dest_nt_host|dest_user)</th>\n",
       "      <th>secs_since_last_login_by_src_nt_host</th>\n",
       "      <th>num_distinct_dest_nt_host_per_src_nt_host_per_hour</th>\n",
       "      <th>num_distinct_dest_user_per_src_nt_host_per_hour</th>\n",
       "      <th>num_distinct_dest_user_per_src_user_per_hour</th>\n",
       "      <th>is_malicious</th>\n",
       "    </tr>\n",
       "  </thead>\n",
       "  <tbody>\n",
       "    <tr>\n",
       "      <th>1511269</th>\n",
       "      <td>17.712893</td>\n",
       "      <td>0.0</td>\n",
       "      <td>29.374846</td>\n",
       "      <td>0.0</td>\n",
       "      <td>4.19486</td>\n",
       "      <td>0.0</td>\n",
       "      <td>1.0</td>\n",
       "      <td>-1.0</td>\n",
       "      <td>-0.667054</td>\n",
       "      <td>0.0</td>\n",
       "      <td>0</td>\n",
       "    </tr>\n",
       "  </tbody>\n",
       "</table>\n",
       "</div>"
      ],
      "text/plain": [
       "         p(src_user n dest_user)  p(src_nt_host n dest_nt_host)  \\\n",
       "1511269                17.712893                            0.0   \n",
       "\n",
       "         p(dest_user n dest_nt_host)  p(src_nt_host|dest_nt_host)  \\\n",
       "1511269                    29.374846                          0.0   \n",
       "\n",
       "         p(dest_user|src_user)  p(dest_nt_host|dest_user)  \\\n",
       "1511269                4.19486                        0.0   \n",
       "\n",
       "         secs_since_last_login_by_src_nt_host  \\\n",
       "1511269                                   1.0   \n",
       "\n",
       "         num_distinct_dest_nt_host_per_src_nt_host_per_hour  \\\n",
       "1511269                                               -1.0    \n",
       "\n",
       "         num_distinct_dest_user_per_src_nt_host_per_hour  \\\n",
       "1511269                                        -0.667054   \n",
       "\n",
       "         num_distinct_dest_user_per_src_user_per_hour  is_malicious  \n",
       "1511269                                           0.0             0  "
      ]
     },
     "execution_count": 42,
     "metadata": {},
     "output_type": "execute_result"
    }
   ],
   "source": [
    "df.head(1)"
   ]
  },
  {
   "cell_type": "code",
   "execution_count": 43,
   "metadata": {
    "collapsed": true
   },
   "outputs": [],
   "source": [
    "from keras.layers import Input, Dense\n",
    "from keras.models import Model\n",
    "from keras.callbacks import ModelCheckpoint, TensorBoard\n",
    "from keras.models import Model, load_model\n",
    "from keras import regularizers\n",
    "import matplotlib.pyplot as plt\n",
    "import numpy as np"
   ]
  },
  {
   "cell_type": "code",
   "execution_count": null,
   "metadata": {
    "collapsed": true
   },
   "outputs": [],
   "source": [
    "TEST_RATIO = 0.25\n",
    "#df.sort_values('time', inplace = True)\n",
    "TRA_INDEX = int((1-TEST_RATIO) * df.shape[0])\n",
    "#train_x = df.iloc[:TRA_INDEX, 1:-2].values\n",
    "train_x = df.iloc[:TRA_INDEX, 0:-1].values\n",
    "#train_x = df.iloc[:TRA_INDEX, :].values\n",
    "train_y = df.iloc[:TRA_INDEX, -1].values\n",
    "#train_y = df.iloc[:TRA_INDEX, :].values\n",
    "\n",
    "#test_x = df.iloc[TRA_INDEX:, 1:-2].values\n",
    "test_x = df.iloc[TRA_INDEX:, 0:-1].values\n",
    "#test_x = df.iloc[TRA_INDEX:, :].values\n",
    "test_y = df.iloc[TRA_INDEX:, -1].values\n",
    "#test_y = df.iloc[TRA_INDEX:, :].values"
   ]
  },
  {
   "cell_type": "code",
   "execution_count": null,
   "metadata": {
    "collapsed": true
   },
   "outputs": [],
   "source": []
  },
  {
   "cell_type": "code",
   "execution_count": 45,
   "metadata": {
    "collapsed": true
   },
   "outputs": [],
   "source": [
    "# this is the size of our encoded representations\n",
    "#encoding_dim = 3\n",
    "input_dim = test_x.shape[1]\n",
    "\n",
    "# this is our input placeholder\n",
    "input_ph = Input(shape=(input_dim,))\n",
    "\n",
    "# \"encoded\" is the encoded representation of the input\n",
    "#encoded = Dense(encoding_dim, activation='relu')(input_ph)\n",
    "encoder = Dense(input_dim, activation='tanh',\n",
    "                activity_regularizer=regularizers.l1(10e-5))(input_ph)\n",
    "\n",
    "#encoder = Dense(int(input_dim / 2), activation='relu')(encoder)\n",
    "\n",
    "encoder = Dense(input_dim - 1, activation='relu')(encoder)\n",
    "\n",
    "encoder = Dense(input_dim - 2, activation='relu')(encoder)\n",
    "\n",
    "encoder = Dense(input_dim - 3, activation='relu')(encoder)\n",
    "\n",
    "#decoder = Dense(int(input_dim / 2), activation='tanh')(encoder)\n",
    "\n",
    "decoder = Dense(input_dim - 3, activation='tanh')(encoder)\n",
    "\n",
    "decoder = Dense(input_dim - 2, activation='tanh')(encoder)\n",
    "\n",
    "decoder = Dense(input_dim - 1, activation='tanh')(encoder)\n",
    "\n",
    "decoder = Dense(input_dim, activation='sigmoid')(decoder)\n",
    "\n",
    "\n",
    "# this model maps an input to its reconstruction\n",
    "autoencoder = Model(inputs=input_ph, outputs=decoder)"
   ]
  },
  {
   "cell_type": "code",
   "execution_count": 46,
   "metadata": {
    "collapsed": true
   },
   "outputs": [],
   "source": [
    "# this model maps an input to its encoded representation\n",
    "#encoder = Model(input_ph, encoded)"
   ]
  },
  {
   "cell_type": "code",
   "execution_count": 47,
   "metadata": {
    "collapsed": true
   },
   "outputs": [],
   "source": [
    "# create a placeholder for an encoded (32-dimensional) input\n",
    "#encoded_input = Input(shape=(encoding_dim,))\n",
    "# retrieve the last layer of the autoencoder model\n",
    "#decoder_layer = autoencoder.layers[-1]\n",
    "# create the decoder model\n",
    "#decoder = Model(encoded_input, decoder_layer(encoded_input))"
   ]
  },
  {
   "cell_type": "code",
   "execution_count": 48,
   "metadata": {},
   "outputs": [
    {
     "name": "stdout",
     "output_type": "stream",
     "text": [
      "Train on 7500528 samples, validate on 2500176 samples\n",
      "Epoch 1/25\n",
      "7500528/7500528 [==============================] - 43s 6us/step - loss: -73.2581 - acc: 0.3698 - val_loss: -52.2532 - val_acc: 0.2895\n",
      "Epoch 2/25\n",
      "7500528/7500528 [==============================] - 42s 6us/step - loss: -82.5979 - acc: 0.3867 - val_loss: -52.3647 - val_acc: 0.2972\n",
      "Epoch 3/25\n",
      "7500528/7500528 [==============================] - 42s 6us/step - loss: -82.8454 - acc: 0.3962 - val_loss: -52.5999 - val_acc: 0.3079\n",
      "Epoch 4/25\n",
      "7500528/7500528 [==============================] - 43s 6us/step - loss: -82.8987 - acc: 0.4012 - val_loss: -52.6283 - val_acc: 0.3065\n",
      "Epoch 5/25\n",
      "7500528/7500528 [==============================] - 43s 6us/step - loss: -83.0845 - acc: 0.4026 - val_loss: -52.5728 - val_acc: 0.3103\n",
      "Epoch 6/25\n",
      "7500528/7500528 [==============================] - 44s 6us/step - loss: -83.0895 - acc: 0.4029 - val_loss: -52.7257 - val_acc: 0.3115\n",
      "Epoch 7/25\n",
      "7500528/7500528 [==============================] - 44s 6us/step - loss: -83.1030 - acc: 0.4030 - val_loss: -52.6629 - val_acc: 0.3099\n",
      "Epoch 8/25\n",
      "7500528/7500528 [==============================] - 45s 6us/step - loss: -83.1370 - acc: 0.4030 - val_loss: -52.6270 - val_acc: 0.3096\n",
      "Epoch 9/25\n",
      "7500528/7500528 [==============================] - 44s 6us/step - loss: -83.1534 - acc: 0.4034 - val_loss: -52.8813 - val_acc: 0.3178\n",
      "Epoch 10/25\n",
      "7500528/7500528 [==============================] - 39s 5us/step - loss: -83.1518 - acc: 0.4034 - val_loss: -52.8318 - val_acc: 0.3180\n",
      "Epoch 11/25\n",
      "7500528/7500528 [==============================] - 37s 5us/step - loss: -83.1567 - acc: 0.4036 - val_loss: -52.5969 - val_acc: 0.3107\n",
      "Epoch 12/25\n",
      "7500528/7500528 [==============================] - 39s 5us/step - loss: -83.1550 - acc: 0.4036 - val_loss: -52.8436 - val_acc: 0.3183\n",
      "Epoch 13/25\n",
      "7500528/7500528 [==============================] - 39s 5us/step - loss: -83.1610 - acc: 0.4041 - val_loss: -52.6552 - val_acc: 0.3099\n",
      "Epoch 14/25\n",
      "7500528/7500528 [==============================] - 40s 5us/step - loss: -83.1592 - acc: 0.4039 - val_loss: -52.7375 - val_acc: 0.3118\n",
      "Epoch 15/25\n",
      "7500528/7500528 [==============================] - 36s 5us/step - loss: -83.1606 - acc: 0.4038 - val_loss: -52.6250 - val_acc: 0.3099\n",
      "Epoch 16/25\n",
      "7500528/7500528 [==============================] - 37s 5us/step - loss: -83.1564 - acc: 0.4038 - val_loss: -52.5970 - val_acc: 0.3108\n",
      "Epoch 17/25\n",
      "7500528/7500528 [==============================] - 38s 5us/step - loss: -83.1510 - acc: 0.4037 - val_loss: -52.8605 - val_acc: 0.3186\n",
      "Epoch 18/25\n",
      "7500528/7500528 [==============================] - 37s 5us/step - loss: -83.1129 - acc: 0.4030 - val_loss: -52.6024 - val_acc: 0.3101\n",
      "Epoch 19/25\n",
      "7500528/7500528 [==============================] - 37s 5us/step - loss: -83.1232 - acc: 0.4033 - val_loss: -52.8409 - val_acc: 0.3179\n",
      "Epoch 20/25\n",
      "7500528/7500528 [==============================] - 38s 5us/step - loss: -83.1221 - acc: 0.4033 - val_loss: -52.7304 - val_acc: 0.3106\n",
      "Epoch 21/25\n",
      "7500528/7500528 [==============================] - 41s 5us/step - loss: -83.1517 - acc: 0.4036 - val_loss: -52.9912 - val_acc: 0.3194\n",
      "Epoch 22/25\n",
      "7500528/7500528 [==============================] - 43s 6us/step - loss: -83.1370 - acc: 0.4034 - val_loss: -52.7409 - val_acc: 0.3162\n",
      "Epoch 23/25\n",
      "7500528/7500528 [==============================] - 46s 6us/step - loss: -83.1592 - acc: 0.4038 - val_loss: -52.7700 - val_acc: 0.3100\n",
      "Epoch 24/25\n",
      "7500528/7500528 [==============================] - 38s 5us/step - loss: -83.1616 - acc: 0.4039 - val_loss: -52.8354 - val_acc: 0.3157\n",
      "Epoch 25/25\n",
      "7500528/7500528 [==============================] - 37s 5us/step - loss: -83.1603 - acc: 0.4036 - val_loss: -52.7680 - val_acc: 0.3180\n"
     ]
    }
   ],
   "source": [
    "\"\"\"autoencoder.compile(optimizer='adam', \n",
    "                    loss='mean_squared_error', \n",
    "                    metrics=['accuracy'])\n",
    "\n",
    "checkpointer = ModelCheckpoint(filepath=\"model.h5\",\n",
    "                               verbose=1,\n",
    "                               save_best_only=True)\n",
    "tensorboard = TensorBoard(log_dir='./logs',\n",
    "                          histogram_freq=0,\n",
    "                          write_graph=True,\n",
    "                          write_images=True)\"\"\"\n",
    "\n",
    "\"\"\" This section is built to compile the model and set up any checkpoints \"\"\"\n",
    "\n",
    "#nb_epoch = 250     ### Number of iterations run.\n",
    "nb_epoch = 25\n",
    "batch_size = 512  ### Size of sample to be used each time data loaded\n",
    "\n",
    "autoencoder.compile(optimizer='adam',              #Optimizer\n",
    "                    loss='binary_crossentropy',     # Loss Metric\n",
    "                    metrics=['accuracy'])          #Accuracy\n",
    "\n",
    "#save the best performing model to a file...\n",
    "checkpointer = ModelCheckpoint(filepath=\"model.h5\",\n",
    "                               verbose=0,\n",
    "                               save_best_only=True)\n",
    "\n",
    "#training progress will be exported in a format that TensorBoard understands\n",
    "tensorboard = TensorBoard(log_dir='./logs',\n",
    "                          histogram_freq=0,\n",
    "                          write_graph=True,\n",
    "                          write_images=True)\n",
    "# Fitting the model\n",
    "history = autoencoder.fit(train_x, train_x,\n",
    "                    epochs=nb_epoch,\n",
    "                    batch_size=batch_size,\n",
    "                    shuffle=True,\n",
    "                    validation_data=(test_x, test_x),  #Remember our validation set is an identical copy!!!\n",
    "                    verbose=1,\n",
    "                    callbacks=[checkpointer, tensorboard]).history\n",
    "\n",
    "###### BELOW:\n",
    "# 1. We want to minimize the loss function, while improving our accuracy \n",
    "# 2. Loss function is calculated by the optimizer which is taking the derivative (dJ/dx + dJ/dy + dJ/dz) over and over to solve for\n",
    "# the closest vale that minimizes loss. "
   ]
  },
  {
   "cell_type": "code",
   "execution_count": 38,
   "metadata": {},
   "outputs": [
    {
     "data": {
      "text/plain": [
       "'history = autoencoder.fit(train_x, train_x,\\n                epochs=10,\\n                batch_size=256,\\n                shuffle=True,\\n                validation_data=(test_x, test_x),\\n                callbacks=[checkpointer, tensorboard]).history'"
      ]
     },
     "execution_count": 38,
     "metadata": {},
     "output_type": "execute_result"
    }
   ],
   "source": [
    "\"\"\"history = autoencoder.fit(train_x, train_x,\n",
    "                epochs=10,\n",
    "                batch_size=256,\n",
    "                shuffle=True,\n",
    "                validation_data=(test_x, test_x),\n",
    "                callbacks=[checkpointer, tensorboard]).history\"\"\""
   ]
  },
  {
   "cell_type": "code",
   "execution_count": 49,
   "metadata": {
    "collapsed": true
   },
   "outputs": [],
   "source": [
    "autoencoder = load_model('model.h5')"
   ]
  },
  {
   "cell_type": "code",
   "execution_count": 50,
   "metadata": {},
   "outputs": [
    {
     "data": {
      "image/png": "[encoded data removed]",
      "text/plain": [
       "<matplotlib.figure.Figure at 0x122ab2198>"
      ]
     },
     "metadata": {},
     "output_type": "display_data"
    }
   ],
   "source": [
    "plt.plot(history['loss'])\n",
    "plt.plot(history['val_loss'])\n",
    "plt.title('model loss')\n",
    "plt.ylabel('loss')\n",
    "plt.xlabel('epoch')\n",
    "plt.legend(['train', 'test'], loc='upper right');\n",
    "plt.show()\n",
    "plt.savefig('myfig')"
   ]
  },
  {
   "cell_type": "code",
   "execution_count": 51,
   "metadata": {
    "collapsed": true
   },
   "outputs": [],
   "source": [
    "### This is the function that \"fits\" our test data to the model. The output is our predictions. \n",
    "\n",
    "predictions = autoencoder.predict(test_x)"
   ]
  },
  {
   "cell_type": "code",
   "execution_count": 52,
   "metadata": {
    "collapsed": true
   },
   "outputs": [],
   "source": [
    "#predictions\n",
    "#preds = predictions.reshape(56, 56)"
   ]
  },
  {
   "cell_type": "code",
   "execution_count": 53,
   "metadata": {
    "collapsed": true
   },
   "outputs": [],
   "source": [
    "### Very simple error squared. Probaly not appropriate for our complex problem, but using in this example...\n",
    "mse = (predictions - test_x)**2"
   ]
  },
  {
   "cell_type": "code",
   "execution_count": 54,
   "metadata": {
    "collapsed": true
   },
   "outputs": [],
   "source": [
    "s = np.array(mse) # needs to be in an array format "
   ]
  },
  {
   "cell_type": "code",
   "execution_count": 55,
   "metadata": {},
   "outputs": [
    {
     "data": {
      "text/plain": [
       "array([  1.00000000e+00,   2.28330301e-14,   1.00000000e+00,\n",
       "         1.25312968e-13,   1.00000000e+00,   2.51502734e-14,\n",
       "         2.99863126e-02,   6.58161581e-01,   3.80682081e-01,\n",
       "         1.17312937e-09], dtype=float32)"
      ]
     },
     "execution_count": 55,
     "metadata": {},
     "output_type": "execute_result"
    }
   ],
   "source": [
    "predictions[1]"
   ]
  },
  {
   "cell_type": "code",
   "execution_count": 56,
   "metadata": {},
   "outputs": [
    {
     "data": {
      "text/plain": [
       "array([  6.44736380e+00,   5.21347263e-28,   1.46239318e+02,\n",
       "         1.57033400e-26,   7.21212249e-01,   6.32536251e-28,\n",
       "         8.99178944e-04,   8.43429528e-03,   7.41311112e-03,\n",
       "         1.37623252e-18])"
      ]
     },
     "execution_count": 56,
     "metadata": {},
     "output_type": "execute_result"
    }
   ],
   "source": [
    "mse[1]"
   ]
  },
  {
   "cell_type": "code",
   "execution_count": 57,
   "metadata": {},
   "outputs": [
    {
     "name": "stderr",
     "output_type": "stream",
     "text": [
      "No handles with labels found to put in legend.\n"
     ]
    },
    {
     "data": {
      "text/plain": [
       "<matplotlib.figure.Figure at 0x182b1ef98>"
      ]
     },
     "metadata": {},
     "output_type": "display_data"
    },
    {
     "data": {
      "image/png": "[encoded data removed]",
      "text/plain": [
       "<matplotlib.figure.Figure at 0x12a16af98>"
      ]
     },
     "metadata": {},
     "output_type": "display_data"
    }
   ],
   "source": [
    "fig, ax = plt.subplots()\n",
    "\n",
    "ax.plot(s, marker='o', ms=5.5, linestyle='')\n",
    "        #label = \"Anomaly\" if i >= threshold else \"normal\") ### Need to fix this\n",
    "            \n",
    "#ax.hlines(threshold, ax.get_xlim()[0], ax.get_xlim()[1], colors=\"r\", zorder=100, label='Threshold')\n",
    "ax.legend()\n",
    "plt.title(\"Reconstruction error for different classes\")\n",
    "plt.ylabel(\"Reconstruction error\")\n",
    "plt.xlabel(\"Data point index\")\n",
    "plt.show()"
   ]
  },
  {
   "cell_type": "code",
   "execution_count": 58,
   "metadata": {
    "collapsed": true
   },
   "outputs": [],
   "source": [
    "# Redteam predictions\n",
    "\n",
    "predictions_redteam = autoencoder.predict(test_x[test_y == 1])\n",
    "predictions_nonredteam = autoencoder.predict(test_x[test_y == 0])\n",
    "\n",
    "mse_rt = (predictions_redteam - test_x[test_y == 1])**2\n",
    "mse_nrt = (predictions_nonredteam - test_x[test_y == 0])**2\n",
    "\n",
    "s_rt = np.array(mse_rt) # needs to be in an array format \n",
    "s_nrt = np.array(mse_nrt)"
   ]
  },
  {
   "cell_type": "code",
   "execution_count": 59,
   "metadata": {},
   "outputs": [
    {
     "name": "stderr",
     "output_type": "stream",
     "text": [
      "No handles with labels found to put in legend.\n"
     ]
    },
    {
     "data": {
      "image/png": "[encoded data removed]",
      "text/plain": [
       "<matplotlib.figure.Figure at 0x2d70fad68>"
      ]
     },
     "metadata": {},
     "output_type": "display_data"
    }
   ],
   "source": [
    "fig, ax = plt.subplots()\n",
    "\n",
    "ax.plot(s_rt, marker='o', linestyle='', color='r')\n",
    "ax.plot(s_nrt, marker='o', linestyle='', color='b')\n",
    "\n",
    "ax.legend()\n",
    "plt.title(\"Reconstruction error for different classes\")\n",
    "plt.ylabel(\"Reconstruction error\")\n",
    "plt.xlabel(\"Data point index\")\n",
    "plt.show()"
   ]
  },
  {
   "cell_type": "markdown",
   "metadata": {
    "collapsed": true
   },
   "source": [
    "## Taking Ron's widened data"
   ]
  },
  {
   "cell_type": "code",
   "execution_count": 1,
   "metadata": {
    "collapsed": true
   },
   "outputs": [],
   "source": [
    "import networkx as nx\n",
    "import pandas as pd\n",
    "from sklearn.preprocessing import RobustScaler"
   ]
  },
  {
   "cell_type": "code",
   "execution_count": 2,
   "metadata": {},
   "outputs": [
    {
     "name": "stdout",
     "output_type": "stream",
     "text": [
      "DF Shape: (10000704, 4)\n"
     ]
    }
   ],
   "source": [
    "df = pd.read_csv('../auth_filtered_all_with_labels_sorted_2_with_labels_filtered.csv')\n",
    "\n",
    "cols = [\"time\",\"src_nt_host\",\"dest_nt_host\", \"is_malicious\"]\n",
    "\n",
    "df = df[cols]\n",
    "\n",
    "print(\"DF Shape: \" + str(df.shape))"
   ]
  },
  {
   "cell_type": "code",
   "execution_count": 3,
   "metadata": {
    "collapsed": true
   },
   "outputs": [],
   "source": [
    "df = df.sort_values(['src_nt_host', 'time'], ascending=[True, True])\n",
    "\n",
    "df['secs_since_last_login_by_src_nt_host'] = df.groupby(['src_nt_host'], sort=False)['time'].diff()\n",
    "\n",
    "df['secs_since_last_login_by_src_nt_host'].fillna(0, inplace=True)"
   ]
  },
  {
   "cell_type": "code",
   "execution_count": 4,
   "metadata": {
    "collapsed": true
   },
   "outputs": [],
   "source": [
    "\"\"\" Function to bin time to a given hour \"\"\"\n",
    "import math\n",
    "\n",
    "bins = [ i for i in range(1,math.ceil(df['time'].max() / 3600) + 1)]\n",
    "\n",
    "\n",
    "def bin_time(time):\n",
    "    return bins[math.ceil(time / 3600) - 1]"
   ]
  },
  {
   "cell_type": "code",
   "execution_count": 5,
   "metadata": {
    "collapsed": true
   },
   "outputs": [],
   "source": [
    "#Let's bin time and convert the seconds to a given hr \n",
    "df['bin_timed'] = df['time'].apply(bin_time)"
   ]
  },
  {
   "cell_type": "code",
   "execution_count": 6,
   "metadata": {
    "collapsed": true
   },
   "outputs": [],
   "source": [
    "#Let's find the distinct number of dest hosts for a src_host in a given hour\n",
    "df['num_distinct_dest_nt_host_per_src_nt_host_per_hour'] = \\\n",
    "    df.groupby(['bin_timed','src_nt_host'])['dest_nt_host'].transform('nunique')"
   ]
  },
  {
   "cell_type": "code",
   "execution_count": 7,
   "metadata": {
    "collapsed": true
   },
   "outputs": [],
   "source": [
    "scaler = RobustScaler()"
   ]
  },
  {
   "cell_type": "code",
   "execution_count": 8,
   "metadata": {
    "collapsed": true
   },
   "outputs": [],
   "source": [
    "df[['num_distinct_dest_nt_host_per_src_nt_host_per_hour','secs_since_last_login_by_src_nt_host']] = \\\n",
    "    scaler.fit_transform(df.as_matrix(['num_distinct_dest_nt_host_per_src_nt_host_per_hour','secs_since_last_login_by_src_nt_host']))"
   ]
  },
  {
   "cell_type": "code",
   "execution_count": 9,
   "metadata": {
    "collapsed": true
   },
   "outputs": [],
   "source": [
    "df = df[['src_nt_host','dest_nt_host','secs_since_last_login_by_src_nt_host', 'num_distinct_dest_nt_host_per_src_nt_host_per_hour']]"
   ]
  },
  {
   "cell_type": "code",
   "execution_count": 10,
   "metadata": {},
   "outputs": [
    {
     "data": {
      "text/html": [
       "<div>\n",
       "<style scoped>\n",
       "    .dataframe tbody tr th:only-of-type {\n",
       "        vertical-align: middle;\n",
       "    }\n",
       "\n",
       "    .dataframe tbody tr th {\n",
       "        vertical-align: top;\n",
       "    }\n",
       "\n",
       "    .dataframe thead th {\n",
       "        text-align: right;\n",
       "    }\n",
       "</style>\n",
       "<table border=\"1\" class=\"dataframe\">\n",
       "  <thead>\n",
       "    <tr style=\"text-align: right;\">\n",
       "      <th></th>\n",
       "      <th>src_nt_host</th>\n",
       "      <th>dest_nt_host</th>\n",
       "      <th>secs_since_last_login_by_src_nt_host</th>\n",
       "      <th>num_distinct_dest_nt_host_per_src_nt_host_per_hour</th>\n",
       "    </tr>\n",
       "  </thead>\n",
       "  <tbody>\n",
       "    <tr>\n",
       "      <th>1820919</th>\n",
       "      <td>C1</td>\n",
       "      <td>C529</td>\n",
       "      <td>0.0</td>\n",
       "      <td>-1.75</td>\n",
       "    </tr>\n",
       "  </tbody>\n",
       "</table>\n",
       "</div>"
      ],
      "text/plain": [
       "        src_nt_host dest_nt_host  secs_since_last_login_by_src_nt_host  \\\n",
       "1820919          C1         C529                                   0.0   \n",
       "\n",
       "         num_distinct_dest_nt_host_per_src_nt_host_per_hour  \n",
       "1820919                                              -1.75   "
      ]
     },
     "execution_count": 10,
     "metadata": {},
     "output_type": "execute_result"
    }
   ],
   "source": [
    "df.head(1)"
   ]
  },
  {
   "cell_type": "code",
   "execution_count": 11,
   "metadata": {
    "collapsed": true
   },
   "outputs": [],
   "source": [
    "dummies = pd.get_dummies(df['dest_nt_host'])\n",
    "df[dummies.columns] = dummies"
   ]
  },
  {
   "cell_type": "code",
   "execution_count": 1,
   "metadata": {},
   "outputs": [
    {
     "ename": "NameError",
     "evalue": "name 'df' is not defined",
     "output_type": "error",
     "traceback": [
      "\u001b[0;31m---------------------------------------------------------------------------\u001b[0m",
      "\u001b[0;31mNameError\u001b[0m                                 Traceback (most recent call last)",
      "\u001b[0;32m<ipython-input-1-b7e56b5e32db>\u001b[0m in \u001b[0;36m<module>\u001b[0;34m()\u001b[0m\n\u001b[0;32m----> 1\u001b[0;31m \u001b[0mdf\u001b[0m\u001b[0;34m.\u001b[0m\u001b[0mhead\u001b[0m\u001b[0;34m(\u001b[0m\u001b[0;36m1\u001b[0m\u001b[0;34m)\u001b[0m\u001b[0;34m[\u001b[0m\u001b[0;34m[\u001b[0m\u001b[0;34m'src_nt_host'\u001b[0m\u001b[0;34m,\u001b[0m \u001b[0;34m'C529'\u001b[0m\u001b[0;34m]\u001b[0m\u001b[0;34m]\u001b[0m\u001b[0;34m\u001b[0m\u001b[0m\n\u001b[0m",
      "\u001b[0;31mNameError\u001b[0m: name 'df' is not defined"
     ]
    }
   ],
   "source": [
    "df.head(1)[['src_nt_host', 'C529']]"
   ]
  },
  {
   "cell_type": "code",
   "execution_count": null,
   "metadata": {
    "collapsed": true
   },
   "outputs": [],
   "source": []
  },
  {
   "cell_type": "code",
   "execution_count": null,
   "metadata": {
    "collapsed": true
   },
   "outputs": [],
   "source": []
  }
 ],
 "metadata": {
  "kernelspec": {
   "display_name": "Python 3",
   "language": "python",
   "name": "python3"
  },
  "language_info": {
   "codemirror_mode": {
    "name": "ipython",
    "version": 3
   },
   "file_extension": ".py",
   "mimetype": "text/x-python",
   "name": "python",
   "nbconvert_exporter": "python",
   "pygments_lexer": "ipython3",
   "version": "3.6.2"
  }
 },
 "nbformat": 4,
 "nbformat_minor": 2
}
