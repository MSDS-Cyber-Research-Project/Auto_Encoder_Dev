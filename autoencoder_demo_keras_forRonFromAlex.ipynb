{
 "cells": [
  {
   "cell_type": "code",
   "execution_count": 9,
   "metadata": {},
   "outputs": [],
   "source": [
    "import pandas as pd\n",
    "from sklearn.preprocessing import StandardScaler"
   ]
  },
  {
   "cell_type": "code",
   "execution_count": 4,
   "metadata": {},
   "outputs": [
    {
     "name": "stdout",
     "output_type": "stream",
     "text": [
      "DF Shape: (10000704, 7)\n"
     ]
    }
   ],
   "source": [
    "#df = pd.read_csv('/host/data/data_exploration_output_1000lines.csv')\n",
    "#df = pd.read_csv('data_exploration_filtered_lat.csv')\n",
    "\n",
    "df = pd.read_csv('../auth_filtered_all_with_labels_sorted_2_with_labels_filtered.csv')\n",
    "\n",
    "#cols = [\"time\",\"p(src_user)\",\"p(dest_user)\",\"p(src_nt_host)\",\"p(dest_nt_host)\",\"p(src_user n dest_user)\",\"p(src_nt_host n dest_nt_host)\",\"p(dest_user n dest_nt_host)\",\"p(src_nt_host|dest_nt_host)\",\"p(dest_user|src_user)\",\"p(dest_nt_host|dest_user)\"]\n",
    "#cols = [\"p(src_user)\",\"p(dest_user)\",\"p(src_nt_host)\",\"p(dest_nt_host)\",\"p(src_user n dest_user)\",\"p(src_nt_host n dest_nt_host)\",\"p(dest_user n dest_nt_host)\",\"p(src_nt_host|dest_nt_host)\",\"p(dest_user|src_user)\",\"p(dest_nt_host|dest_user)\", \"is_malicious\"]\n",
    "cols = [\"p(src_user n dest_user)\",\"p(src_nt_host n dest_nt_host)\",\"p(dest_user n dest_nt_host)\",\"p(src_nt_host|dest_nt_host)\",\"p(dest_user|src_user)\",\"p(dest_nt_host|dest_user)\", \"is_malicious\"]\n",
    "\n",
    "df = df[cols]\n",
    "\n",
    "print(\"DF Shape: \" + str(df.shape))"
   ]
  },
  {
   "cell_type": "code",
   "execution_count": 6,
   "metadata": {
    "collapsed": true
   },
   "outputs": [],
   "source": [
    "scaler = StandardScaler()"
   ]
  },
  {
   "cell_type": "code",
   "execution_count": 7,
   "metadata": {
    "collapsed": true
   },
   "outputs": [],
   "source": [
    "df[[\"p(src_user n dest_user)\",\"p(src_nt_host n dest_nt_host)\",\"p(dest_user n dest_nt_host)\",\"p(src_nt_host|dest_nt_host)\",\"p(dest_user|src_user)\",\"p(dest_nt_host|dest_user)\"]] = scaler.fit_transform(df.as_matrix([\"p(src_user n dest_user)\",\"p(src_nt_host n dest_nt_host)\",\"p(dest_user n dest_nt_host)\",\"p(src_nt_host|dest_nt_host)\",\"p(dest_user|src_user)\",\"p(dest_nt_host|dest_user)\"]))"
   ]
  },
  {
   "cell_type": "code",
   "execution_count": 8,
   "metadata": {},
   "outputs": [
    {
     "data": {
      "text/html": [
       "<div>\n",
       "<style scoped>\n",
       "    .dataframe tbody tr th:only-of-type {\n",
       "        vertical-align: middle;\n",
       "    }\n",
       "\n",
       "    .dataframe tbody tr th {\n",
       "        vertical-align: top;\n",
       "    }\n",
       "\n",
       "    .dataframe thead th {\n",
       "        text-align: right;\n",
       "    }\n",
       "</style>\n",
       "<table border=\"1\" class=\"dataframe\">\n",
       "  <thead>\n",
       "    <tr style=\"text-align: right;\">\n",
       "      <th></th>\n",
       "      <th>p(src_user n dest_user)</th>\n",
       "      <th>p(src_nt_host n dest_nt_host)</th>\n",
       "      <th>p(dest_user n dest_nt_host)</th>\n",
       "      <th>p(src_nt_host|dest_nt_host)</th>\n",
       "      <th>p(dest_user|src_user)</th>\n",
       "      <th>p(dest_nt_host|dest_user)</th>\n",
       "      <th>is_malicious</th>\n",
       "    </tr>\n",
       "  </thead>\n",
       "  <tbody>\n",
       "    <tr>\n",
       "      <th>0</th>\n",
       "      <td>0.096296</td>\n",
       "      <td>-1.24314</td>\n",
       "      <td>-0.24271</td>\n",
       "      <td>-1.141385</td>\n",
       "      <td>0.795777</td>\n",
       "      <td>-1.367526</td>\n",
       "      <td>0</td>\n",
       "    </tr>\n",
       "  </tbody>\n",
       "</table>\n",
       "</div>"
      ],
      "text/plain": [
       "   p(src_user n dest_user)  p(src_nt_host n dest_nt_host)  \\\n",
       "0                 0.096296                       -1.24314   \n",
       "\n",
       "   p(dest_user n dest_nt_host)  p(src_nt_host|dest_nt_host)  \\\n",
       "0                     -0.24271                    -1.141385   \n",
       "\n",
       "   p(dest_user|src_user)  p(dest_nt_host|dest_user)  is_malicious  \n",
       "0               0.795777                  -1.367526             0  "
      ]
     },
     "execution_count": 8,
     "metadata": {},
     "output_type": "execute_result"
    }
   ],
   "source": [
    "df.head(1)"
   ]
  },
  {
   "cell_type": "code",
   "execution_count": 32,
   "metadata": {
    "collapsed": true
   },
   "outputs": [],
   "source": [
    "from keras.layers import Input, Dense\n",
    "from keras.models import Model\n",
    "from keras.callbacks import ModelCheckpoint, TensorBoard\n",
    "from keras.models import Model, load_model\n",
    "import matplotlib.pyplot as plt"
   ]
  },
  {
   "cell_type": "code",
   "execution_count": 16,
   "metadata": {
    "collapsed": true
   },
   "outputs": [],
   "source": [
    "TEST_RATIO = 0.25\n",
    "#df.sort_values('time', inplace = True)\n",
    "TRA_INDEX = int((1-TEST_RATIO) * df.shape[0])\n",
    "#train_x = df.iloc[:TRA_INDEX, 1:-2].values\n",
    "train_x = df.iloc[:TRA_INDEX, 0:-1].values\n",
    "#train_x = df.iloc[:TRA_INDEX, :].values\n",
    "train_y = df.iloc[:TRA_INDEX, -1].values\n",
    "#train_y = df.iloc[:TRA_INDEX, :].values\n",
    "\n",
    "#test_x = df.iloc[TRA_INDEX:, 1:-2].values\n",
    "test_x = df.iloc[TRA_INDEX:, 0:-1].values\n",
    "#test_x = df.iloc[TRA_INDEX:, :].values\n",
    "test_y = df.iloc[TRA_INDEX:, -1].values\n",
    "#test_y = df.iloc[TRA_INDEX:, :].values"
   ]
  },
  {
   "cell_type": "code",
   "execution_count": 20,
   "metadata": {},
   "outputs": [],
   "source": [
    "# this is the size of our encoded representations\n",
    "encoding_dim = 3\n",
    "\n",
    "# this is our input placeholder\n",
    "input_ph = Input(shape=(6,))\n",
    "# \"encoded\" is the encoded representation of the input\n",
    "encoded = Dense(encoding_dim, activation='relu')(input_ph)\n",
    "# \"decoded\" is the lossy reconstruction of the input\n",
    "decoded = Dense(6, activation='sigmoid')(encoded)\n",
    "\n",
    "# this model maps an input to its reconstruction\n",
    "autoencoder = Model(input_ph, decoded)"
   ]
  },
  {
   "cell_type": "code",
   "execution_count": 21,
   "metadata": {},
   "outputs": [],
   "source": [
    "# this model maps an input to its encoded representation\n",
    "encoder = Model(input_ph, encoded)"
   ]
  },
  {
   "cell_type": "code",
   "execution_count": 22,
   "metadata": {
    "collapsed": true
   },
   "outputs": [],
   "source": [
    "# create a placeholder for an encoded (32-dimensional) input\n",
    "encoded_input = Input(shape=(encoding_dim,))\n",
    "# retrieve the last layer of the autoencoder model\n",
    "decoder_layer = autoencoder.layers[-1]\n",
    "# create the decoder model\n",
    "decoder = Model(encoded_input, decoder_layer(encoded_input))"
   ]
  },
  {
   "cell_type": "code",
   "execution_count": 37,
   "metadata": {},
   "outputs": [],
   "source": [
    "autoencoder.compile(optimizer='adam', \n",
    "                    loss='mean_squared_error', \n",
    "                    metrics=['accuracy'])\n",
    "\n",
    "checkpointer = ModelCheckpoint(filepath=\"model.h5\",\n",
    "                               verbose=1,\n",
    "                               save_best_only=True)\n",
    "tensorboard = TensorBoard(log_dir='./logs',\n",
    "                          histogram_freq=0,\n",
    "                          write_graph=True,\n",
    "                          write_images=True)"
   ]
  },
  {
   "cell_type": "code",
   "execution_count": 51,
   "metadata": {},
   "outputs": [
    {
     "name": "stdout",
     "output_type": "stream",
     "text": [
      "Train on 7500528 samples, validate on 2500176 samples\n",
      "Epoch 1/10\n",
      "7500528/7500528 [==============================] - 54s 7us/step - loss: 0.5946 - acc: 0.6308 - val_loss: 0.5619 - val_acc: 0.6826\n",
      "\n",
      "Epoch 00001: val_loss improved from 0.56194 to 0.56194, saving model to model.h5\n",
      "Epoch 2/10\n",
      "7500528/7500528 [==============================] - 53s 7us/step - loss: 0.5946 - acc: 0.6308 - val_loss: 0.5619 - val_acc: 0.6826\n",
      "\n",
      "Epoch 00002: val_loss improved from 0.56194 to 0.56194, saving model to model.h5\n",
      "Epoch 3/10\n",
      "7500528/7500528 [==============================] - 54s 7us/step - loss: 0.5946 - acc: 0.6308 - val_loss: 0.5619 - val_acc: 0.6824\n",
      "\n",
      "Epoch 00003: val_loss improved from 0.56194 to 0.56194, saving model to model.h5\n",
      "Epoch 4/10\n",
      "7500528/7500528 [==============================] - 55s 7us/step - loss: 0.5946 - acc: 0.6307 - val_loss: 0.5619 - val_acc: 0.6824\n",
      "\n",
      "Epoch 00004: val_loss improved from 0.56194 to 0.56193, saving model to model.h5\n",
      "Epoch 5/10\n",
      "7500528/7500528 [==============================] - 55s 7us/step - loss: 0.5946 - acc: 0.6307 - val_loss: 0.5619 - val_acc: 0.6824\n",
      "\n",
      "Epoch 00005: val_loss did not improve\n",
      "Epoch 6/10\n",
      "7500528/7500528 [==============================] - 55s 7us/step - loss: 0.5946 - acc: 0.6307 - val_loss: 0.5619 - val_acc: 0.6824\n",
      "\n",
      "Epoch 00006: val_loss did not improve\n",
      "Epoch 7/10\n",
      "7500528/7500528 [==============================] - 57s 8us/step - loss: 0.5946 - acc: 0.6307 - val_loss: 0.5619 - val_acc: 0.6824\n",
      "\n",
      "Epoch 00007: val_loss improved from 0.56193 to 0.56193, saving model to model.h5\n",
      "Epoch 8/10\n",
      "7500528/7500528 [==============================] - 57s 8us/step - loss: 0.5946 - acc: 0.6307 - val_loss: 0.5619 - val_acc: 0.6824\n",
      "\n",
      "Epoch 00008: val_loss improved from 0.56193 to 0.56193, saving model to model.h5\n",
      "Epoch 9/10\n",
      "7500528/7500528 [==============================] - 50s 7us/step - loss: 0.5946 - acc: 0.6307 - val_loss: 0.5619 - val_acc: 0.6824\n",
      "\n",
      "Epoch 00009: val_loss improved from 0.56193 to 0.56193, saving model to model.h5\n",
      "Epoch 10/10\n",
      "7500528/7500528 [==============================] - 50s 7us/step - loss: 0.5946 - acc: 0.6307 - val_loss: 0.5619 - val_acc: 0.6824\n",
      "\n",
      "Epoch 00010: val_loss improved from 0.56193 to 0.56193, saving model to model.h5\n"
     ]
    }
   ],
   "source": [
    "history = autoencoder.fit(train_x, train_x,\n",
    "                epochs=10,\n",
    "                batch_size=256,\n",
    "                shuffle=True,\n",
    "                validation_data=(test_x, test_x),\n",
    "                callbacks=[checkpointer, tensorboard]).history"
   ]
  },
  {
   "cell_type": "code",
   "execution_count": 54,
   "metadata": {},
   "outputs": [],
   "source": [
    "autoencoder = load_model('model.h5')"
   ]
  },
  {
   "cell_type": "code",
   "execution_count": 55,
   "metadata": {},
   "outputs": [
    {
     "data": {
      "image/png": "[encoded data removed]",
      "text/plain": [
       "<matplotlib.figure.Figure at 0x11ff40c50>"
      ]
     },
     "metadata": {},
     "output_type": "display_data"
    }
   ],
   "source": [
    "plt.plot(history['loss'])\n",
    "plt.plot(history['val_loss'])\n",
    "plt.title('model loss')\n",
    "plt.ylabel('loss')\n",
    "plt.xlabel('epoch')\n",
    "plt.legend(['train', 'test'], loc='upper right');\n",
    "plt.show()"
   ]
  },
  {
   "cell_type": "code",
   "execution_count": null,
   "metadata": {
    "collapsed": true
   },
   "outputs": [],
   "source": []
  }
 ],
 "metadata": {
  "kernelspec": {
   "display_name": "Python 2",
   "language": "python",
   "name": "python2"
  },
  "language_info": {
   "codemirror_mode": {
    "name": "ipython",
    "version": 2
   },
   "file_extension": ".py",
   "mimetype": "text/x-python",
   "name": "python",
   "nbconvert_exporter": "python",
   "pygments_lexer": "ipython2",
   "version": "2.7.13"
  }
 },
 "nbformat": 4,
 "nbformat_minor": 2
}
