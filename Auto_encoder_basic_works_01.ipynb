{
 "cells": [
  {
   "cell_type": "markdown",
   "metadata": {},
   "source": [
    "# A bad example of an auto-encoder that works* on our data:\n",
    "\n",
    "\n",
    "# ...but, at least we got it working!"
   ]
  },
  {
   "cell_type": "code",
   "execution_count": 243,
   "metadata": {},
   "outputs": [],
   "source": [
    "import semanticnet as sn\n",
    "import networkx as nx\n",
    "import numpy as np\n",
    "import pandas as pd\n",
    "\n",
    "pd.options.display.max_rows = 999\n",
    "pd.options.display.max_columns = 999"
   ]
  },
  {
   "cell_type": "markdown",
   "metadata": {},
   "source": [
    "Imported the data from Redteam.txt\n",
    "\n",
    "This is the first 10,000 lines from the file. "
   ]
  },
  {
   "cell_type": "code",
   "execution_count": 244,
   "metadata": {},
   "outputs": [],
   "source": [
    "import pandas as pd\n",
    "    \n",
    "#\"time,source user@domain,destination user@domain, source computer,\n",
    "#destination computer,authentication type,logon type,authentication orientation,success/failure\"    \n",
    "    \n",
    "    \n",
    "data = pd.read_table('Data/redteam_10k.txt', sep=',', header=None,\n",
    "                 names = [\"time\",\n",
    "                          \"source_usr_dm\", \n",
    "                          \"dest_usr_dm\", \n",
    "                          \"source_comp\", \n",
    "                          \"dest_comp\", \n",
    "                          \"auth_tp\", \n",
    "                         \"logon_tp\", \n",
    "                          \"auth_or\", \n",
    "                          \"event_s_f\"])"
   ]
  },
  {
   "cell_type": "markdown",
   "metadata": {},
   "source": [
    "1. Use Networkx to create a matrix that is readable into Pandas. \n",
    "\n",
    "2. Using Networkx.to_pandas_dataframe(g) we get a X x Y matrix of Source x Destination\n",
    "\n",
    "3. In Progress: This is for the first 10k rows, and needs to be optimized to see things move through time."
   ]
  },
  {
   "cell_type": "code",
   "execution_count": 245,
   "metadata": {},
   "outputs": [],
   "source": [
    "# initialize an empty graph from pd_data_frame\n",
    "g = nx.from_pandas_dataframe(data, source='source_comp', target='dest_comp') "
   ]
  },
  {
   "cell_type": "code",
   "execution_count": 246,
   "metadata": {},
   "outputs": [],
   "source": [
    "x = nx.to_pandas_dataframe(g)"
   ]
  },
  {
   "cell_type": "code",
   "execution_count": 247,
   "metadata": {},
   "outputs": [],
   "source": [
    "data10k = pd.DataFrame(x)"
   ]
  },
  {
   "cell_type": "code",
   "execution_count": 248,
   "metadata": {},
   "outputs": [
    {
     "data": {
      "text/html": [
       "<div>\n",
       "<style scoped>\n",
       "    .dataframe tbody tr th:only-of-type {\n",
       "        vertical-align: middle;\n",
       "    }\n",
       "\n",
       "    .dataframe tbody tr th {\n",
       "        vertical-align: top;\n",
       "    }\n",
       "\n",
       "    .dataframe thead th {\n",
       "        text-align: right;\n",
       "    }\n",
       "</style>\n",
       "<table border=\"1\" class=\"dataframe\">\n",
       "  <thead>\n",
       "    <tr style=\"text-align: right;\">\n",
       "      <th></th>\n",
       "      <th>C1173</th>\n",
       "      <th>C1006</th>\n",
       "      <th>U6</th>\n",
       "      <th>C1215</th>\n",
       "      <th>U3</th>\n",
       "      <th>C1119</th>\n",
       "      <th>C1042</th>\n",
       "      <th>C585</th>\n",
       "      <th>C586</th>\n",
       "      <th>C1014</th>\n",
       "      <th>C1015</th>\n",
       "      <th>C625</th>\n",
       "      <th>C743</th>\n",
       "      <th>C1114</th>\n",
       "      <th>C1096</th>\n",
       "      <th>C1191</th>\n",
       "      <th>C10</th>\n",
       "      <th>C523</th>\n",
       "      <th>TGT</th>\n",
       "      <th>C1884</th>\n",
       "      <th>C528</th>\n",
       "      <th>C529</th>\n",
       "      <th>C467</th>\n",
       "      <th>C1124</th>\n",
       "      <th>C1737</th>\n",
       "      <th>C1931</th>\n",
       "      <th>C1</th>\n",
       "      <th>C113</th>\n",
       "      <th>C46</th>\n",
       "      <th>C1222</th>\n",
       "      <th>C1224</th>\n",
       "      <th>C1046</th>\n",
       "      <th>C1065</th>\n",
       "      <th>U25</th>\n",
       "      <th>C612</th>\n",
       "      <th>C1028</th>\n",
       "      <th>C1269</th>\n",
       "      <th>C1268</th>\n",
       "      <th>C1022</th>\n",
       "      <th>C599</th>\n",
       "      <th>C1125</th>\n",
       "      <th>C115</th>\n",
       "      <th>C1003</th>\n",
       "      <th>C1085</th>\n",
       "      <th>C2106</th>\n",
       "      <th>C1089</th>\n",
       "      <th>C2327</th>\n",
       "      <th>C1183</th>\n",
       "      <th>C108</th>\n",
       "      <th>C457</th>\n",
       "      <th>C104</th>\n",
       "      <th>C1708</th>\n",
       "      <th>C1640</th>\n",
       "      <th>C126</th>\n",
       "      <th>C102</th>\n",
       "      <th>C103</th>\n",
       "    </tr>\n",
       "  </thead>\n",
       "  <tbody>\n",
       "    <tr>\n",
       "      <th>C1173</th>\n",
       "      <td>1.0</td>\n",
       "      <td>0.0</td>\n",
       "      <td>0.0</td>\n",
       "      <td>0.0</td>\n",
       "      <td>0.0</td>\n",
       "      <td>0.0</td>\n",
       "      <td>0.0</td>\n",
       "      <td>0.0</td>\n",
       "      <td>0.0</td>\n",
       "      <td>0.0</td>\n",
       "      <td>0.0</td>\n",
       "      <td>0.0</td>\n",
       "      <td>0.0</td>\n",
       "      <td>0.0</td>\n",
       "      <td>0.0</td>\n",
       "      <td>0.0</td>\n",
       "      <td>0.0</td>\n",
       "      <td>0.0</td>\n",
       "      <td>0.0</td>\n",
       "      <td>0.0</td>\n",
       "      <td>0.0</td>\n",
       "      <td>1.0</td>\n",
       "      <td>0.0</td>\n",
       "      <td>0.0</td>\n",
       "      <td>0.0</td>\n",
       "      <td>0.0</td>\n",
       "      <td>0.0</td>\n",
       "      <td>0.0</td>\n",
       "      <td>0.0</td>\n",
       "      <td>0.0</td>\n",
       "      <td>0.0</td>\n",
       "      <td>0.0</td>\n",
       "      <td>1.0</td>\n",
       "      <td>0.0</td>\n",
       "      <td>1.0</td>\n",
       "      <td>0.0</td>\n",
       "      <td>0.0</td>\n",
       "      <td>0.0</td>\n",
       "      <td>0.0</td>\n",
       "      <td>0.0</td>\n",
       "      <td>0.0</td>\n",
       "      <td>0.0</td>\n",
       "      <td>0.0</td>\n",
       "      <td>0.0</td>\n",
       "      <td>0.0</td>\n",
       "      <td>0.0</td>\n",
       "      <td>0.0</td>\n",
       "      <td>0.0</td>\n",
       "      <td>0.0</td>\n",
       "      <td>0.0</td>\n",
       "      <td>0.0</td>\n",
       "      <td>0.0</td>\n",
       "      <td>0.0</td>\n",
       "      <td>0.0</td>\n",
       "      <td>0.0</td>\n",
       "      <td>0.0</td>\n",
       "    </tr>\n",
       "    <tr>\n",
       "      <th>C1006</th>\n",
       "      <td>0.0</td>\n",
       "      <td>1.0</td>\n",
       "      <td>0.0</td>\n",
       "      <td>0.0</td>\n",
       "      <td>0.0</td>\n",
       "      <td>0.0</td>\n",
       "      <td>0.0</td>\n",
       "      <td>0.0</td>\n",
       "      <td>1.0</td>\n",
       "      <td>0.0</td>\n",
       "      <td>0.0</td>\n",
       "      <td>0.0</td>\n",
       "      <td>0.0</td>\n",
       "      <td>0.0</td>\n",
       "      <td>0.0</td>\n",
       "      <td>0.0</td>\n",
       "      <td>0.0</td>\n",
       "      <td>0.0</td>\n",
       "      <td>1.0</td>\n",
       "      <td>0.0</td>\n",
       "      <td>0.0</td>\n",
       "      <td>0.0</td>\n",
       "      <td>0.0</td>\n",
       "      <td>0.0</td>\n",
       "      <td>0.0</td>\n",
       "      <td>0.0</td>\n",
       "      <td>0.0</td>\n",
       "      <td>0.0</td>\n",
       "      <td>0.0</td>\n",
       "      <td>0.0</td>\n",
       "      <td>0.0</td>\n",
       "      <td>0.0</td>\n",
       "      <td>1.0</td>\n",
       "      <td>0.0</td>\n",
       "      <td>1.0</td>\n",
       "      <td>0.0</td>\n",
       "      <td>0.0</td>\n",
       "      <td>0.0</td>\n",
       "      <td>0.0</td>\n",
       "      <td>0.0</td>\n",
       "      <td>0.0</td>\n",
       "      <td>0.0</td>\n",
       "      <td>0.0</td>\n",
       "      <td>0.0</td>\n",
       "      <td>0.0</td>\n",
       "      <td>0.0</td>\n",
       "      <td>0.0</td>\n",
       "      <td>0.0</td>\n",
       "      <td>0.0</td>\n",
       "      <td>0.0</td>\n",
       "      <td>0.0</td>\n",
       "      <td>0.0</td>\n",
       "      <td>0.0</td>\n",
       "      <td>0.0</td>\n",
       "      <td>0.0</td>\n",
       "      <td>0.0</td>\n",
       "    </tr>\n",
       "    <tr>\n",
       "      <th>U6</th>\n",
       "      <td>0.0</td>\n",
       "      <td>0.0</td>\n",
       "      <td>0.0</td>\n",
       "      <td>0.0</td>\n",
       "      <td>0.0</td>\n",
       "      <td>0.0</td>\n",
       "      <td>0.0</td>\n",
       "      <td>0.0</td>\n",
       "      <td>0.0</td>\n",
       "      <td>0.0</td>\n",
       "      <td>0.0</td>\n",
       "      <td>0.0</td>\n",
       "      <td>0.0</td>\n",
       "      <td>0.0</td>\n",
       "      <td>0.0</td>\n",
       "      <td>0.0</td>\n",
       "      <td>0.0</td>\n",
       "      <td>0.0</td>\n",
       "      <td>0.0</td>\n",
       "      <td>0.0</td>\n",
       "      <td>0.0</td>\n",
       "      <td>0.0</td>\n",
       "      <td>0.0</td>\n",
       "      <td>0.0</td>\n",
       "      <td>0.0</td>\n",
       "      <td>0.0</td>\n",
       "      <td>0.0</td>\n",
       "      <td>0.0</td>\n",
       "      <td>0.0</td>\n",
       "      <td>0.0</td>\n",
       "      <td>0.0</td>\n",
       "      <td>0.0</td>\n",
       "      <td>0.0</td>\n",
       "      <td>0.0</td>\n",
       "      <td>0.0</td>\n",
       "      <td>0.0</td>\n",
       "      <td>0.0</td>\n",
       "      <td>0.0</td>\n",
       "      <td>0.0</td>\n",
       "      <td>0.0</td>\n",
       "      <td>0.0</td>\n",
       "      <td>0.0</td>\n",
       "      <td>0.0</td>\n",
       "      <td>0.0</td>\n",
       "      <td>0.0</td>\n",
       "      <td>0.0</td>\n",
       "      <td>0.0</td>\n",
       "      <td>1.0</td>\n",
       "      <td>0.0</td>\n",
       "      <td>0.0</td>\n",
       "      <td>0.0</td>\n",
       "      <td>0.0</td>\n",
       "      <td>0.0</td>\n",
       "      <td>0.0</td>\n",
       "      <td>0.0</td>\n",
       "      <td>0.0</td>\n",
       "    </tr>\n",
       "    <tr>\n",
       "      <th>C1215</th>\n",
       "      <td>0.0</td>\n",
       "      <td>0.0</td>\n",
       "      <td>0.0</td>\n",
       "      <td>1.0</td>\n",
       "      <td>0.0</td>\n",
       "      <td>0.0</td>\n",
       "      <td>0.0</td>\n",
       "      <td>0.0</td>\n",
       "      <td>0.0</td>\n",
       "      <td>0.0</td>\n",
       "      <td>0.0</td>\n",
       "      <td>0.0</td>\n",
       "      <td>0.0</td>\n",
       "      <td>0.0</td>\n",
       "      <td>0.0</td>\n",
       "      <td>0.0</td>\n",
       "      <td>0.0</td>\n",
       "      <td>0.0</td>\n",
       "      <td>1.0</td>\n",
       "      <td>0.0</td>\n",
       "      <td>1.0</td>\n",
       "      <td>1.0</td>\n",
       "      <td>1.0</td>\n",
       "      <td>0.0</td>\n",
       "      <td>0.0</td>\n",
       "      <td>0.0</td>\n",
       "      <td>0.0</td>\n",
       "      <td>0.0</td>\n",
       "      <td>0.0</td>\n",
       "      <td>0.0</td>\n",
       "      <td>0.0</td>\n",
       "      <td>0.0</td>\n",
       "      <td>1.0</td>\n",
       "      <td>0.0</td>\n",
       "      <td>0.0</td>\n",
       "      <td>0.0</td>\n",
       "      <td>0.0</td>\n",
       "      <td>0.0</td>\n",
       "      <td>0.0</td>\n",
       "      <td>0.0</td>\n",
       "      <td>0.0</td>\n",
       "      <td>0.0</td>\n",
       "      <td>0.0</td>\n",
       "      <td>0.0</td>\n",
       "      <td>0.0</td>\n",
       "      <td>0.0</td>\n",
       "      <td>0.0</td>\n",
       "      <td>0.0</td>\n",
       "      <td>0.0</td>\n",
       "      <td>0.0</td>\n",
       "      <td>0.0</td>\n",
       "      <td>0.0</td>\n",
       "      <td>0.0</td>\n",
       "      <td>0.0</td>\n",
       "      <td>0.0</td>\n",
       "      <td>0.0</td>\n",
       "    </tr>\n",
       "    <tr>\n",
       "      <th>U3</th>\n",
       "      <td>0.0</td>\n",
       "      <td>0.0</td>\n",
       "      <td>0.0</td>\n",
       "      <td>0.0</td>\n",
       "      <td>0.0</td>\n",
       "      <td>0.0</td>\n",
       "      <td>0.0</td>\n",
       "      <td>0.0</td>\n",
       "      <td>0.0</td>\n",
       "      <td>0.0</td>\n",
       "      <td>0.0</td>\n",
       "      <td>0.0</td>\n",
       "      <td>0.0</td>\n",
       "      <td>0.0</td>\n",
       "      <td>0.0</td>\n",
       "      <td>1.0</td>\n",
       "      <td>0.0</td>\n",
       "      <td>0.0</td>\n",
       "      <td>0.0</td>\n",
       "      <td>0.0</td>\n",
       "      <td>0.0</td>\n",
       "      <td>0.0</td>\n",
       "      <td>0.0</td>\n",
       "      <td>0.0</td>\n",
       "      <td>0.0</td>\n",
       "      <td>0.0</td>\n",
       "      <td>1.0</td>\n",
       "      <td>0.0</td>\n",
       "      <td>0.0</td>\n",
       "      <td>0.0</td>\n",
       "      <td>0.0</td>\n",
       "      <td>0.0</td>\n",
       "      <td>0.0</td>\n",
       "      <td>0.0</td>\n",
       "      <td>0.0</td>\n",
       "      <td>0.0</td>\n",
       "      <td>0.0</td>\n",
       "      <td>0.0</td>\n",
       "      <td>0.0</td>\n",
       "      <td>0.0</td>\n",
       "      <td>0.0</td>\n",
       "      <td>0.0</td>\n",
       "      <td>0.0</td>\n",
       "      <td>0.0</td>\n",
       "      <td>0.0</td>\n",
       "      <td>0.0</td>\n",
       "      <td>0.0</td>\n",
       "      <td>0.0</td>\n",
       "      <td>0.0</td>\n",
       "      <td>0.0</td>\n",
       "      <td>0.0</td>\n",
       "      <td>0.0</td>\n",
       "      <td>0.0</td>\n",
       "      <td>0.0</td>\n",
       "      <td>0.0</td>\n",
       "      <td>0.0</td>\n",
       "    </tr>\n",
       "  </tbody>\n",
       "</table>\n",
       "</div>"
      ],
      "text/plain": [
       "       C1173  C1006   U6  C1215   U3  C1119  C1042  C585  C586  C1014  C1015  \\\n",
       "C1173    1.0    0.0  0.0    0.0  0.0    0.0    0.0   0.0   0.0    0.0    0.0   \n",
       "C1006    0.0    1.0  0.0    0.0  0.0    0.0    0.0   0.0   1.0    0.0    0.0   \n",
       "U6       0.0    0.0  0.0    0.0  0.0    0.0    0.0   0.0   0.0    0.0    0.0   \n",
       "C1215    0.0    0.0  0.0    1.0  0.0    0.0    0.0   0.0   0.0    0.0    0.0   \n",
       "U3       0.0    0.0  0.0    0.0  0.0    0.0    0.0   0.0   0.0    0.0    0.0   \n",
       "\n",
       "       C625  C743  C1114  C1096  C1191  C10  C523  TGT  C1884  C528  C529  \\\n",
       "C1173   0.0   0.0    0.0    0.0    0.0  0.0   0.0  0.0    0.0   0.0   1.0   \n",
       "C1006   0.0   0.0    0.0    0.0    0.0  0.0   0.0  1.0    0.0   0.0   0.0   \n",
       "U6      0.0   0.0    0.0    0.0    0.0  0.0   0.0  0.0    0.0   0.0   0.0   \n",
       "C1215   0.0   0.0    0.0    0.0    0.0  0.0   0.0  1.0    0.0   1.0   1.0   \n",
       "U3      0.0   0.0    0.0    0.0    1.0  0.0   0.0  0.0    0.0   0.0   0.0   \n",
       "\n",
       "       C467  C1124  C1737  C1931   C1  C113  C46  C1222  C1224  C1046  C1065  \\\n",
       "C1173   0.0    0.0    0.0    0.0  0.0   0.0  0.0    0.0    0.0    0.0    1.0   \n",
       "C1006   0.0    0.0    0.0    0.0  0.0   0.0  0.0    0.0    0.0    0.0    1.0   \n",
       "U6      0.0    0.0    0.0    0.0  0.0   0.0  0.0    0.0    0.0    0.0    0.0   \n",
       "C1215   1.0    0.0    0.0    0.0  0.0   0.0  0.0    0.0    0.0    0.0    1.0   \n",
       "U3      0.0    0.0    0.0    0.0  1.0   0.0  0.0    0.0    0.0    0.0    0.0   \n",
       "\n",
       "       U25  C612  C1028  C1269  C1268  C1022  C599  C1125  C115  C1003  C1085  \\\n",
       "C1173  0.0   1.0    0.0    0.0    0.0    0.0   0.0    0.0   0.0    0.0    0.0   \n",
       "C1006  0.0   1.0    0.0    0.0    0.0    0.0   0.0    0.0   0.0    0.0    0.0   \n",
       "U6     0.0   0.0    0.0    0.0    0.0    0.0   0.0    0.0   0.0    0.0    0.0   \n",
       "C1215  0.0   0.0    0.0    0.0    0.0    0.0   0.0    0.0   0.0    0.0    0.0   \n",
       "U3     0.0   0.0    0.0    0.0    0.0    0.0   0.0    0.0   0.0    0.0    0.0   \n",
       "\n",
       "       C2106  C1089  C2327  C1183  C108  C457  C104  C1708  C1640  C126  C102  \\\n",
       "C1173    0.0    0.0    0.0    0.0   0.0   0.0   0.0    0.0    0.0   0.0   0.0   \n",
       "C1006    0.0    0.0    0.0    0.0   0.0   0.0   0.0    0.0    0.0   0.0   0.0   \n",
       "U6       0.0    0.0    0.0    1.0   0.0   0.0   0.0    0.0    0.0   0.0   0.0   \n",
       "C1215    0.0    0.0    0.0    0.0   0.0   0.0   0.0    0.0    0.0   0.0   0.0   \n",
       "U3       0.0    0.0    0.0    0.0   0.0   0.0   0.0    0.0    0.0   0.0   0.0   \n",
       "\n",
       "       C103  \n",
       "C1173   0.0  \n",
       "C1006   0.0  \n",
       "U6      0.0  \n",
       "C1215   0.0  \n",
       "U3      0.0  "
      ]
     },
     "execution_count": 248,
     "metadata": {},
     "output_type": "execute_result"
    }
   ],
   "source": [
    "data10k.head()"
   ]
  },
  {
   "cell_type": "code",
   "execution_count": 249,
   "metadata": {},
   "outputs": [],
   "source": [
    "data10k_test = data10k # seeing if this works as a test set (a duplicate, so same dimentions)"
   ]
  },
  {
   "cell_type": "code",
   "execution_count": null,
   "metadata": {},
   "outputs": [],
   "source": []
  },
  {
   "cell_type": "code",
   "execution_count": null,
   "metadata": {},
   "outputs": [],
   "source": []
  },
  {
   "cell_type": "code",
   "execution_count": null,
   "metadata": {},
   "outputs": [],
   "source": []
  },
  {
   "cell_type": "markdown",
   "metadata": {},
   "source": [
    "### Keras Auto-Encoder\n",
    "\n",
    "1. Basic auto-encoder with 2 levels = encoder, 2 levels = decoder. \n",
    "2. This can most definetly be hypertuned - Still working on best model. Probably, 1D convolutional neural network when we start dealing with Tbs of data. this will help us hone in very small changes. "
   ]
  },
  {
   "cell_type": "code",
   "execution_count": null,
   "metadata": {},
   "outputs": [],
   "source": []
  },
  {
   "cell_type": "code",
   "execution_count": 250,
   "metadata": {},
   "outputs": [],
   "source": [
    "#import pandas as pd\n",
    "#import numpy as np\n",
    "import pickle\n",
    "import matplotlib.pyplot as plt\n",
    "from scipy import stats\n",
    "import tensorflow as tf\n",
    "import seaborn as sns\n",
    "from pylab import rcParams\n",
    "from sklearn.model_selection import train_test_split\n",
    "from keras.models import Model, load_model\n",
    "from keras.layers import Input, Dense\n",
    "from keras.callbacks import ModelCheckpoint, TensorBoard\n",
    "from keras import regularizers\n",
    "\n",
    "%matplotlib inline\n",
    "\n",
    "sns.set(style='whitegrid', palette='muted', font_scale=1.5)\n",
    "\n",
    "rcParams['figure.figsize'] = 14, 8\n",
    "\n",
    "RANDOM_SEED = 42\n",
    "#LABELS = [\"Normal\", \"Fraud\"]"
   ]
  },
  {
   "cell_type": "code",
   "execution_count": 251,
   "metadata": {},
   "outputs": [],
   "source": [
    "from sklearn.preprocessing import StandardScaler"
   ]
  },
  {
   "cell_type": "markdown",
   "metadata": {},
   "source": [
    "##### The idea here is to create a dupulicate X_train & X_test. Since we are trying to \"reconstruct\" the data (and this is a test to see if it works!!! :) ) this is a good starting place. "
   ]
  },
  {
   "cell_type": "code",
   "execution_count": 253,
   "metadata": {},
   "outputs": [],
   "source": [
    "X_train = data10k\n",
    "X_test = data10k_test\n"
   ]
  },
  {
   "cell_type": "code",
   "execution_count": 254,
   "metadata": {},
   "outputs": [
    {
     "name": "stdout",
     "output_type": "stream",
     "text": [
      "56 56\n",
      "56 56\n"
     ]
    }
   ],
   "source": [
    "print X_train.shape[0], X_train.shape[1]\n",
    "print X_test.shape[0], X_test.shape[1] "
   ]
  },
  {
   "cell_type": "markdown",
   "metadata": {},
   "source": [
    "Setting up dimensions "
   ]
  },
  {
   "cell_type": "code",
   "execution_count": 423,
   "metadata": {},
   "outputs": [],
   "source": [
    "input_dim = X_train.shape[0] ### Dimesions of X_train set\n",
    "encoding_dim = 14 "
   ]
  },
  {
   "cell_type": "markdown",
   "metadata": {},
   "source": [
    "Setting up layers:\n",
    "\n",
    "(Example... our Auto-Encoder is going from 56 (inputs), -> 14 (1st layer) -> 7 (2nd layer) -> 7 (3rd layer) -> 14 (last layer)\n",
    "\n",
    "        1            1\n",
    "        2   \\     /  2\n",
    "        :    1 - 1   :\n",
    "        :    :   :   :\n",
    "        :    7 - 7   :\n",
    "        13  /     \\  13\n",
    "        14           14\n",
    "\n",
    "This model can be changed just about any way you can think and long as you compress the inner layers down in a similar fashion. "
   ]
  },
  {
   "cell_type": "code",
   "execution_count": 583,
   "metadata": {},
   "outputs": [],
   "source": [
    "####\n",
    "#input_layer = Input(shape=(input_dim, ))\n",
    "#encoder = Dense(encoding_dim, activation=\"tanh\")(input_layer)\n",
    "                #activity_regularizer=regularizers.l1(10e-5))(input_layer)\n",
    "#encoder = Dense(int(encoding_dim / 2), activation=\"relu\")(encoder)\n",
    "#encoder = Dense(int(encoding_dim / 7), activation=\"relu\")(encoder)\n",
    "#decoder = Dense(int(encoding_dim / 7), activation='tanh')(encoder)\n",
    "#decoder = Dense(int(encoding_dim / 2), activation='tanh')(encoder)\n",
    "#decoder = Dense(input_dim, activation='softmax')(decoder)\n",
    "#autoencoder = Model(inputs=input_layer, outputs=decoder)\n",
    "\n",
    "input_layer = Input(shape=(input_dim, ))\n",
    "\n",
    "encoder = Dense(encoding_dim, activation=\"tanh\", \n",
    "                activity_regularizer=regularizers.l1(10e-5))(input_layer)\n",
    "\n",
    "encoder = Dense(int(encoding_dim / 2), activation=\"relu\")(encoder)\n",
    "\n",
    "decoder = Dense(int(encoding_dim / 2), activation='tanh')(encoder)\n",
    "\n",
    "decoder = Dense(input_dim, activation='sigmoid')(decoder)\n",
    "\n",
    "autoencoder = Model(inputs=input_layer, outputs=decoder)"
   ]
  },
  {
   "cell_type": "markdown",
   "metadata": {},
   "source": [
    "#### Encoder: \n",
    "\n",
    "1. This is the part of the network that compresses the input into a fewer components. The space represented by these fewer components is called the “latent-space” and the point of maximum compression is called the bottleneck. These compressed parts that represent the original input are together called an “encoding” of the input.\n",
    "\n",
    "#### Decoder: \n",
    "\n",
    "2. This is the part of the network that reconstructs the input image (matrix in our case) using the encoding of the image."
   ]
  },
  {
   "cell_type": "code",
   "execution_count": 584,
   "metadata": {},
   "outputs": [],
   "source": [
    "\"\"\" This section is built to compile the model and set up any checkpoints \"\"\"\n",
    "\n",
    "nb_epoch = 250     ### Number of iterations run.\n",
    "batch_size = 32  ### Size of sample to be used each time data loaded\n",
    "\n",
    "autoencoder.compile(optimizer='adam',              #Optimizer\n",
    "                    loss='binary_crossentropy',     # Loss Metric\n",
    "                    metrics=['accuracy'])          #Accuracy\n",
    "\n",
    "#save the best performing model to a file...\n",
    "checkpointer = ModelCheckpoint(filepath=\"model.h5\",\n",
    "                               verbose=0,\n",
    "                               save_best_only=True)\n",
    "\n",
    "#training progress will be exported in a format that TensorBoard understands\n",
    "tensorboard = TensorBoard(log_dir='./logs',\n",
    "                          histogram_freq=0,\n",
    "                          write_graph=True,\n",
    "                          write_images=True)\n",
    "# Fitting the model\n",
    "history = autoencoder.fit(X_train, X_train,\n",
    "                    epochs=nb_epoch,\n",
    "                    batch_size=batch_size,\n",
    "                    shuffle=True,\n",
    "                    validation_data=(X_test, X_test),  #Remember our validation set is an identical copy!!!\n",
    "                    verbose=0,\n",
    "                    callbacks=[checkpointer, tensorboard]).history\n",
    "\n",
    "###### BELOW:\n",
    "# 1. We want to minimize the loss function, while improving our accuracy \n",
    "# 2. Loss function is calculated by the optimizer which is taking the derivative (dJ/dx + dJ/dy + dJ/dz) over and over to solve for\n",
    "# the closest vale that minimizes loss. "
   ]
  },
  {
   "cell_type": "code",
   "execution_count": 426,
   "metadata": {},
   "outputs": [],
   "source": [
    "### Truthfully, I havent found this to do anything by loading the model... It has no effect on the loss, val_loss plot\n",
    "## Maybe interesting for someone to explore?? \n",
    "autoencoder = load_model('model.h5')"
   ]
  },
  {
   "cell_type": "code",
   "execution_count": 515,
   "metadata": {},
   "outputs": [
    {
     "data": {
      "text/plain": [
       "<matplotlib.legend.Legend at 0x1249bbfd0>"
      ]
     },
     "execution_count": 515,
     "metadata": {},
     "output_type": "execute_result"
    },
    {
     "data": {
      "image/png": "[encoded data removed]",
      "text/plain": [
       "<matplotlib.figure.Figure at 0x124ff1b90>"
      ]
     },
     "metadata": {},
     "output_type": "display_data"
    }
   ],
   "source": [
    "plt.plot(history['loss'])\n",
    "plt.plot(history['val_loss'])\n",
    "plt.title('model loss')\n",
    "plt.ylabel('loss')\n",
    "plt.xlabel('epoch')\n",
    "plt.legend(['train', 'test'], loc='upper right')\n"
   ]
  },
  {
   "cell_type": "code",
   "execution_count": 516,
   "metadata": {},
   "outputs": [],
   "source": [
    "### This is the function that \"fits\" our test data to the model. The output is our predictions. \n",
    "\n",
    "predictions = autoencoder.predict(X_test)"
   ]
  },
  {
   "cell_type": "code",
   "execution_count": 517,
   "metadata": {},
   "outputs": [],
   "source": [
    "#predictions\n",
    "preds = predictions.reshape(56, 56)"
   ]
  },
  {
   "cell_type": "code",
   "execution_count": 518,
   "metadata": {},
   "outputs": [],
   "source": [
    "### Very simple error squared. Probaly not appropriate for our complex problem, but using in this example...\n",
    "mse = (preds - X_test)**2"
   ]
  },
  {
   "cell_type": "code",
   "execution_count": 458,
   "metadata": {},
   "outputs": [
    {
     "name": "stdout",
     "output_type": "stream",
     "text": [
      "(56, 56)\n",
      "(56, 56)\n"
     ]
    }
   ],
   "source": [
    "### For reference \n",
    "print X_test.shape\n",
    "print mse.shape"
   ]
  },
  {
   "cell_type": "markdown",
   "metadata": {},
   "source": [
    "#### Next we go into model output evaluation "
   ]
  },
  {
   "cell_type": "code",
   "execution_count": 580,
   "metadata": {},
   "outputs": [],
   "source": [
    "s = np.array(mse) # needs to be in an array format "
   ]
  },
  {
   "cell_type": "markdown",
   "metadata": {},
   "source": [
    "Here we need to check dimensions... For our first reconstruction, we will only use 1 vector in our matrix. "
   ]
  },
  {
   "cell_type": "code",
   "execution_count": 520,
   "metadata": {},
   "outputs": [
    {
     "name": "stdout",
     "output_type": "stream",
     "text": [
      "(56,)\n",
      "(56,)\n"
     ]
    }
   ],
   "source": [
    "### print dim of preds & s array. \n",
    "print preds[1].shape\n",
    "print s[1].shape"
   ]
  },
  {
   "cell_type": "code",
   "execution_count": 451,
   "metadata": {},
   "outputs": [
    {
     "data": {
      "text/plain": [
       "array([0.09451018, 0.0986227 , 0.17832392, 0.11354709, 0.12856528,\n",
       "       0.09585654, 0.06165539, 0.08190437, 0.25877368, 0.14115383,\n",
       "       0.13345575, 0.21860786, 0.14255656, 0.06920095, 0.07344244,\n",
       "       0.12524402, 0.06361816, 0.08457754, 0.13679372, 0.14628875,\n",
       "       0.15893646, 0.23724058, 0.21747078, 0.08894303, 0.06998922,\n",
       "       0.0927389 , 0.09753022, 0.11428148, 0.11716493, 0.11072776,\n",
       "       0.14484495, 0.12180717, 0.37692887, 0.10379437, 0.20651154,\n",
       "       0.07400124, 0.12613827, 0.19972675, 0.12024453, 0.12091145,\n",
       "       0.16997172, 0.06630476, 0.08346543, 0.31873238, 0.15290123,\n",
       "       0.10021716, 0.0649934 , 0.15023644, 0.07248451, 0.11902256,\n",
       "       0.05744587, 0.12754168, 0.11252798, 0.13108481, 0.13769548,\n",
       "       0.10495048], dtype=float32)"
      ]
     },
     "execution_count": 451,
     "metadata": {},
     "output_type": "execute_result"
    }
   ],
   "source": [
    "preds[1] # for visual"
   ]
  },
  {
   "cell_type": "code",
   "execution_count": 446,
   "metadata": {},
   "outputs": [],
   "source": [
    "from sklearn.metrics import (confusion_matrix, precision_recall_curve, auc,\n",
    "                             roc_curve, recall_score, classification_report, f1_score,\n",
    "                             precision_recall_fscore_support)"
   ]
  },
  {
   "cell_type": "code",
   "execution_count": 581,
   "metadata": {},
   "outputs": [],
   "source": [
    "\"\"\" not sure, but rounding preds worked for ROC - someone could look \n",
    "into this to see if it is applicable to auto-encoders like it is for classification? \"\"\"\n",
    "\n",
    "#fpr, tpr, thresholds = roc_curve(np.round(preds[1]), s[1], pos_label=1)\n",
    "#roc_auc = auc(fpr, tpr)\n",
    "\n",
    "#plt.title('Receiver Operating Characteristic')\n",
    "#plt.plot(fpr, tpr, label='AUC = %0.4f'% roc_auc)\n",
    "#plt.legend(loc='lower right')\n",
    "#plt.plot([0,1],[0,1],'r--')\n",
    "#plt.xlim([-0.001, 1])\n",
    "#plt.ylim([0, 1.001])\n",
    "#plt.ylabel('True Positive Rate')\n",
    "#plt.xlabel('False Positive Rate')\n",
    "#plt.show()"
   ]
  },
  {
   "cell_type": "code",
   "execution_count": null,
   "metadata": {},
   "outputs": [],
   "source": []
  },
  {
   "cell_type": "code",
   "execution_count": 524,
   "metadata": {},
   "outputs": [
    {
     "data": {
      "text/plain": [
       "array([[51,  5],\n",
       "       [ 0,  0]])"
      ]
     },
     "execution_count": 524,
     "metadata": {},
     "output_type": "execute_result"
    }
   ],
   "source": [
    "#confusion_matrix(np.round(preds[1]), X_test.values[1])"
   ]
  },
  {
   "cell_type": "markdown",
   "metadata": {},
   "source": [
    "Setting the threshold should be picked based off StDev, Mean, Loss, a sombination, or other advanced stats. In this example it is arbitrary.... "
   ]
  },
  {
   "cell_type": "code",
   "execution_count": 525,
   "metadata": {},
   "outputs": [],
   "source": [
    "threshold = 0.5 #yolo"
   ]
  },
  {
   "cell_type": "code",
   "execution_count": 526,
   "metadata": {},
   "outputs": [
    {
     "data": {
      "image/png": "[encoded data removed]",
      "text/plain": [
       "<matplotlib.figure.Figure at 0x124d407d0>"
      ]
     },
     "metadata": {},
     "output_type": "display_data"
    }
   ],
   "source": [
    "### It works, and we are looking at the reconstruction error of preds[1] only. \n",
    "### Need to figure out how to do them all at once...?\n",
    "\n",
    "fig, ax = plt.subplots()\n",
    "\n",
    "ax.plot(s[1], marker='o', ms=5.5, linestyle='')\n",
    "        #label = \"Anomoly\" if i >= threshold else \"normal\") ### Need to fix this\n",
    "            \n",
    "ax.hlines(threshold, ax.get_xlim()[0], ax.get_xlim()[1], colors=\"r\", zorder=100, label='Threshold')\n",
    "ax.legend()\n",
    "plt.title(\"Reconstruction error for different classes\")\n",
    "plt.ylabel(\"Reconstruction error\")\n",
    "plt.xlabel(\"Data point index\")\n",
    "plt.show();"
   ]
  },
  {
   "cell_type": "markdown",
   "metadata": {},
   "source": [
    "# It works!\n",
    "## 1. Above is the single vector example....\n",
    "\n",
    "## 2. Below is the \"flattened\" array for the entire 10k. \n",
    "\n",
    "### We obviously need to improve the performance!!!"
   ]
  },
  {
   "cell_type": "code",
   "execution_count": 527,
   "metadata": {},
   "outputs": [
    {
     "data": {
      "image/png": "[encoded data removed]",
      "text/plain": [
       "<matplotlib.figure.Figure at 0x12d461f90>"
      ]
     },
     "metadata": {},
     "output_type": "display_data"
    }
   ],
   "source": [
    "### Trying it now with np.flatten... \n",
    "fig, ax = plt.subplots()\n",
    "\n",
    "ax.plot(s.flatten(), marker='o', ms=5.5, linestyle='')\n",
    "        #label = \"Anomoly\" if i >= threshold else \"normal\")\n",
    "            \n",
    "ax.hlines(threshold, ax.get_xlim()[0], ax.get_xlim()[1], colors=\"r\", zorder=100, label='Threshold')\n",
    "ax.legend()\n",
    "plt.title(\"Reconstruction error for different classes\")\n",
    "plt.ylabel(\"Reconstruction error\")\n",
    "plt.xlabel(\"Data point index\")\n",
    "plt.show();"
   ]
  },
  {
   "cell_type": "code",
   "execution_count": null,
   "metadata": {},
   "outputs": [],
   "source": []
  },
  {
   "cell_type": "code",
   "execution_count": null,
   "metadata": {},
   "outputs": [],
   "source": []
  },
  {
   "cell_type": "code",
   "execution_count": null,
   "metadata": {},
   "outputs": [],
   "source": []
  },
  {
   "cell_type": "markdown",
   "metadata": {},
   "source": [
    "## Wanted to try on a image, but came up with another test\n",
    "\n",
    "### I am changing the element Z[1,0] (a copy of data10k) so that 1 element is changed based on the Xtrain."
   ]
  },
  {
   "cell_type": "code",
   "execution_count": 492,
   "metadata": {},
   "outputs": [
    {
     "data": {
      "image/png": "[encoded data removed]",
      "text/plain": [
       "<matplotlib.figure.Figure at 0x11fbdaf90>"
      ]
     },
     "metadata": {},
     "output_type": "display_data"
    },
    {
     "data": {
      "text/plain": [
       "<matplotlib.figure.Figure at 0x12475a0d0>"
      ]
     },
     "metadata": {},
     "output_type": "display_data"
    }
   ],
   "source": [
    "#View of matrix from graph in heatmap form... \n",
    "plt.imshow(X_test.values, cmap='hot') #, interpolation='nearest')\n",
    "plt.show()\n",
    "#plt.savefig('X_test')"
   ]
  },
  {
   "cell_type": "code",
   "execution_count": 533,
   "metadata": {},
   "outputs": [],
   "source": [
    "Z = X_test.values ### Just setting up a copy"
   ]
  },
  {
   "cell_type": "code",
   "execution_count": 534,
   "metadata": {},
   "outputs": [
    {
     "data": {
      "text/plain": [
       "(56, 56)"
      ]
     },
     "execution_count": 534,
     "metadata": {},
     "output_type": "execute_result"
    }
   ],
   "source": [
    "Z.shape #dimension check"
   ]
  },
  {
   "cell_type": "code",
   "execution_count": 571,
   "metadata": {},
   "outputs": [],
   "source": [
    "Z[1,0] = 3 ### Changing the element to a 3... where it used to be a zero"
   ]
  },
  {
   "cell_type": "code",
   "execution_count": 572,
   "metadata": {},
   "outputs": [
    {
     "data": {
      "text/plain": [
       "array([[1., 0., 0., ..., 0., 0., 0.],\n",
       "       [3., 1., 0., ..., 0., 0., 0.],\n",
       "       [0., 0., 0., ..., 0., 0., 0.],\n",
       "       ...,\n",
       "       [0., 0., 0., ..., 1., 0., 0.],\n",
       "       [0., 0., 0., ..., 0., 1., 1.],\n",
       "       [0., 0., 0., ..., 0., 1., 0.]])"
      ]
     },
     "execution_count": 572,
     "metadata": {},
     "output_type": "execute_result"
    }
   ],
   "source": [
    "### See the 3...? lol\n",
    "Z"
   ]
  },
  {
   "cell_type": "markdown",
   "metadata": {},
   "source": [
    "### \"Real-life\" anamoly detection? \n",
    "\n",
    "1. Our model is already trained, so by taking Z and running it through the \"autoencoder.predict()\" we fit the new data to the trained model. \n",
    "2. We run the same reshape, \n",
    "3. and mse on the data. \n",
    "4. finally, convert into an array just like before "
   ]
  },
  {
   "cell_type": "code",
   "execution_count": 576,
   "metadata": {},
   "outputs": [],
   "source": [
    "## Example / Test for a different \n",
    "predictions_z = autoencoder.predict(Z)\n",
    "preds_z = predictions.reshape(56, 56)\n",
    "mse_z = (preds - X_test)**2\n",
    "s_z = np.array(mse_z)"
   ]
  },
  {
   "cell_type": "markdown",
   "metadata": {},
   "source": [
    "### What do ya know? It works!\n",
    "\n",
    "#### If you remember before, some of the points were above that 0.5 threshold... They may or may not have been anamolies, but by theory we test against Z which had a big signal change in it so the points that were once thought of as \"bad reconstruction = anamolies\" can be seen to be within a normal range. "
   ]
  },
  {
   "cell_type": "code",
   "execution_count": 579,
   "metadata": {},
   "outputs": [
    {
     "data": {
      "image/png": "[encoded data removed]",
      "text/plain": [
       "<matplotlib.figure.Figure at 0x126440b10>"
      ]
     },
     "metadata": {},
     "output_type": "display_data"
    }
   ],
   "source": [
    "fig, ax = plt.subplots()\n",
    "\n",
    "ax.plot(s_z[1], marker='o', ms=5.5, linestyle='')\n",
    "        #label = \"Anomoly\" if i >= threshold else \"normal\")\n",
    "            \n",
    "ax.hlines(threshold, ax.get_xlim()[0], ax.get_xlim()[1], colors=\"r\", zorder=100, label='Threshold')\n",
    "ax.legend()\n",
    "plt.title(\"Reconstruction error for different classes\")\n",
    "plt.ylabel(\"Reconstruction error\")\n",
    "plt.xlabel(\"Data point index\")\n",
    "plt.show();"
   ]
  },
  {
   "cell_type": "code",
   "execution_count": 582,
   "metadata": {},
   "outputs": [
    {
     "data": {
      "image/png": "[encoded data removed]",
      "text/plain": [
       "<matplotlib.figure.Figure at 0x1215a2410>"
      ]
     },
     "metadata": {},
     "output_type": "display_data"
    }
   ],
   "source": [
    "fig, ax = plt.subplots()\n",
    "\n",
    "#for i in s.flatten():\n",
    "ax.plot(s_z.flatten(), marker='o', ms=5.5, linestyle='')\n",
    "        #label = \"Anomoly\" if i >= threshold else \"normal\")\n",
    "            \n",
    "ax.hlines(threshold, ax.get_xlim()[0], ax.get_xlim()[1], colors=\"r\", zorder=100, label='Threshold')\n",
    "ax.legend()\n",
    "plt.title(\"Reconstruction error for different classes\")\n",
    "plt.ylabel(\"Reconstruction error\")\n",
    "plt.xlabel(\"Data point index\")\n",
    "plt.show();"
   ]
  },
  {
   "cell_type": "markdown",
   "metadata": {},
   "source": [
    "# If you made it this far..."
   ]
  },
  {
   "cell_type": "markdown",
   "metadata": {},
   "source": [
    "### I hope my comments, train of thought, spelling, or grammar didn't throw anyone for a loop. lol"
   ]
  },
  {
   "cell_type": "markdown",
   "metadata": {},
   "source": [
    "# Next Steps\n",
    "\n",
    "### 1. contiune to improve model\n",
    "### 2. contiune to progress on data processing / dimensions / time series / \"movie\" ?\n",
    "### 3. research 1D CNNs \n",
    "### 4. Team's comments / other Team thoughts! "
   ]
  },
  {
   "cell_type": "code",
   "execution_count": null,
   "metadata": {},
   "outputs": [],
   "source": []
  },
  {
   "cell_type": "code",
   "execution_count": null,
   "metadata": {},
   "outputs": [],
   "source": []
  },
  {
   "cell_type": "code",
   "execution_count": null,
   "metadata": {},
   "outputs": [],
   "source": []
  },
  {
   "cell_type": "code",
   "execution_count": null,
   "metadata": {},
   "outputs": [],
   "source": []
  },
  {
   "cell_type": "code",
   "execution_count": null,
   "metadata": {},
   "outputs": [],
   "source": []
  },
  {
   "cell_type": "code",
   "execution_count": null,
   "metadata": {},
   "outputs": [],
   "source": []
  },
  {
   "cell_type": "code",
   "execution_count": null,
   "metadata": {},
   "outputs": [],
   "source": []
  },
  {
   "cell_type": "code",
   "execution_count": null,
   "metadata": {},
   "outputs": [],
   "source": []
  }
 ],
 "metadata": {
  "kernelspec": {
   "display_name": "Python 2",
   "language": "python",
   "name": "python2"
  },
  "language_info": {
   "codemirror_mode": {
    "name": "ipython",
    "version": 2
   },
   "file_extension": ".py",
   "mimetype": "text/x-python",
   "name": "python",
   "nbconvert_exporter": "python",
   "pygments_lexer": "ipython2",
   "version": "2.7.13"
  },
  "varInspector": {
   "cols": {
    "lenName": 16,
    "lenType": 16,
    "lenVar": 40
   },
   "kernels_config": {
    "python": {
     "delete_cmd_postfix": "",
     "delete_cmd_prefix": "del ",
     "library": "var_list.py",
     "varRefreshCmd": "print(var_dic_list())"
    },
    "r": {
     "delete_cmd_postfix": ") ",
     "delete_cmd_prefix": "rm(",
     "library": "var_list.r",
     "varRefreshCmd": "cat(var_dic_list()) "
    }
   },
   "types_to_exclude": [
    "module",
    "function",
    "builtin_function_or_method",
    "instance",
    "_Feature"
   ],
   "window_display": false
  }
 },
 "nbformat": 4,
 "nbformat_minor": 2
}
